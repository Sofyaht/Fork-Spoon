{
 "cells": [
  {
   "cell_type": "code",
   "execution_count": 17,
   "id": "eb4a9973",
   "metadata": {},
   "outputs": [],
   "source": [
    "import sqlite3\n",
    "import random\n",
    "import pandas as pd\n",
    "from sklearn.model_selection import train_test_split\n",
    "from sklearn.tree import DecisionTreeClassifier\n",
    "from sklearn import metrics\n",
    "from sklearn.preprocessing import LabelEncoder\n",
    "import joblib\n"
   ]
  },
  {
   "cell_type": "code",
   "execution_count": null,
   "id": "b5193efd",
   "metadata": {},
   "outputs": [],
   "source": [
    "# Connect to the SQLite database\n",
    "conn = sqlite3.connect('Education.db')  # Replace with your actual database name\n",
    "cursor = conn.cursor()"
   ]
  },
  {
   "cell_type": "code",
   "execution_count": 4,
   "id": "beed0677",
   "metadata": {},
   "outputs": [
    {
     "name": "stdout",
     "output_type": "stream",
     "text": [
      "The sql extension is already loaded. To reload it, use:\n",
      "  %reload_ext sql\n",
      " * sqlite:///Education.db\n",
      "(sqlite3.OperationalError) table Subjects already exists\n",
      "[SQL: CREATE TABLE Subjects ( subject_id INTEGER PRIMARY KEY, subject_name TEXT NOT NULL );]\n",
      "(Background on this error at: https://sqlalche.me/e/20/e3q8)\n",
      " * sqlite:///Education.db\n",
      "Done.\n"
     ]
    },
    {
     "data": {
      "text/html": [
       "<table>\n",
       "    <thead>\n",
       "        <tr>\n",
       "            <th>name</th>\n",
       "        </tr>\n",
       "    </thead>\n",
       "    <tbody>\n",
       "        <tr>\n",
       "            <td>Subjects</td>\n",
       "        </tr>\n",
       "        <tr>\n",
       "            <td>DifficultyLevels</td>\n",
       "        </tr>\n",
       "        <tr>\n",
       "            <td>Topics</td>\n",
       "        </tr>\n",
       "        <tr>\n",
       "            <td>Questions</td>\n",
       "        </tr>\n",
       "        <tr>\n",
       "            <td>VideoFiles</td>\n",
       "        </tr>\n",
       "        <tr>\n",
       "            <td>Videos</td>\n",
       "        </tr>\n",
       "        <tr>\n",
       "            <td>Teachers</td>\n",
       "        </tr>\n",
       "    </tbody>\n",
       "</table>"
      ],
      "text/plain": [
       "[('Subjects',),\n",
       " ('DifficultyLevels',),\n",
       " ('Topics',),\n",
       " ('Questions',),\n",
       " ('VideoFiles',),\n",
       " ('Videos',),\n",
       " ('Teachers',)]"
      ]
     },
     "execution_count": 4,
     "metadata": {},
     "output_type": "execute_result"
    }
   ],
   "source": [
    "\n",
    "# Load the SQL extension\n",
    "%load_ext sql\n",
    "\n",
    "# Connect to the SQLite database and specify the filename\n",
    "%sql sqlite:///Education.db\n",
    "\n",
    "# Define the SQL commands as a multiline string\n",
    "sql_commands = \"\"\"\n",
    "CREATE TABLE Subjects (\n",
    "    subject_id INTEGER PRIMARY KEY,\n",
    "    subject_name TEXT NOT NULL\n",
    ");\n",
    "\n",
    "CREATE TABLE DifficultyLevels (\n",
    "    difficulty_id INTEGER PRIMARY KEY,\n",
    "    difficulty_name TEXT NOT NULL\n",
    ");\n",
    "\n",
    "CREATE TABLE Topics (\n",
    "    topic_id INTEGER PRIMARY KEY,\n",
    "    topic_name TEXT NOT NULL\n",
    ");\n",
    "\n",
    "CREATE TABLE Questions (\n",
    "    question_id INTEGER PRIMARY KEY,\n",
    "    question_text TEXT NOT NULL,\n",
    "    subject_id INTEGER,\n",
    "    difficulty_id INTEGER,\n",
    "    topic_id INTEGER,\n",
    "    FOREIGN KEY (subject_id) REFERENCES Subjects(subject_id),\n",
    "    FOREIGN KEY (difficulty_id) REFERENCES DifficultyLevels(difficulty_id),\n",
    "    FOREIGN KEY (topic_id) REFERENCES Topics(topic_id)\n",
    ");\n",
    "\n",
    "CREATE TABLE VideoFiles (\n",
    "    video_id INTEGER PRIMARY KEY,\n",
    "    file_path TEXT NOT NULL\n",
    ");\n",
    "\n",
    "CREATE TABLE Videos (\n",
    "    video_id INTEGER PRIMARY KEY,\n",
    "    video_title TEXT NOT NULL,\n",
    "    subject_id INTEGER,\n",
    "    teacher_id INTEGER,\n",
    "    file_id INTEGER,\n",
    "    FOREIGN KEY (subject_id) REFERENCES Subjects(subject_id),\n",
    "    FOREIGN KEY (teacher_id) REFERENCES Teachers(teacher_id),\n",
    "    FOREIGN KEY (file_id) REFERENCES VideoFiles(video_id)\n",
    ");\n",
    "\n",
    "CREATE TABLE Teachers (\n",
    "    teacher_id INTEGER PRIMARY KEY,\n",
    "    teacher_name TEXT NOT NULL,\n",
    "    specialty TEXT\n",
    ");\n",
    "\"\"\"\n",
    "\n",
    "# Execute the SQL commands\n",
    "%sql $sql_commands\n",
    "\n",
    "# Retrieve table names\n",
    "%sql SELECT name FROM sqlite_master WHERE type='table';\n"
   ]
  },
  {
   "cell_type": "code",
   "execution_count": 5,
   "id": "b4bb020a",
   "metadata": {},
   "outputs": [
    {
     "name": "stdout",
     "output_type": "stream",
     "text": [
      " * sqlite:///Education.db\n",
      "3 rows affected.\n",
      " * sqlite:///Education.db\n",
      "3 rows affected.\n",
      " * sqlite:///Education.db\n",
      "3 rows affected.\n",
      " * sqlite:///Education.db\n",
      "3 rows affected.\n",
      " * sqlite:///Education.db\n",
      "3 rows affected.\n",
      " * sqlite:///Education.db\n",
      "3 rows affected.\n",
      " * sqlite:///Education.db\n",
      "3 rows affected.\n"
     ]
    },
    {
     "data": {
      "text/plain": [
       "[]"
      ]
     },
     "execution_count": 5,
     "metadata": {},
     "output_type": "execute_result"
    }
   ],
   "source": [
    "# Insert sample data for Subjects\n",
    "%sql INSERT INTO Subjects (subject_name) VALUES ('Math'), ('English'), ('Science');\n",
    "\n",
    "# Insert sample data for DifficultyLevels\n",
    "%sql INSERT INTO DifficultyLevels (difficulty_name) VALUES ('Easy'), ('Medium'), ('Hard');\n",
    "\n",
    "# Insert sample data for Topics\n",
    "%sql INSERT INTO Topics (topic_name) VALUES ('Algebra'), ('Grammar'), ('Biology');\n",
    "\n",
    "# Insert sample data for Questions\n",
    "%sql INSERT INTO Questions (question_text, subject_id, difficulty_id, topic_id) VALUES \\\n",
    "    ('What is 2 + 2?', 1, 1, 1), \\\n",
    "    ('Identify the subject in \"The cat is on the mat.\"', 2, 1, 2), \\\n",
    "    ('What is the powerhouse of the cell?', 3, 2, 3);\n",
    "\n",
    "# Insert sample data for VideoFiles\n",
    "%sql INSERT INTO VideoFiles (file_path) VALUES \\\n",
    "    ('/videos/math_video.mp4'), \\\n",
    "    ('/videos/english_video.mp4'), \\\n",
    "    ('/videos/science_video.mp4');\n",
    "\n",
    "# Insert sample data for Teachers\n",
    "%sql INSERT INTO Teachers (teacher_name, specialty) VALUES \\\n",
    "    ('Mr. Smith', 'Math'), \\\n",
    "    ('Mrs. Johnson', 'English'), \\\n",
    "    ('Dr. Davis', 'Biology');\n",
    "\n",
    "# Insert sample data for Videos\n",
    "%sql INSERT INTO Videos (video_title, subject_id, teacher_id, file_id) VALUES \\\n",
    "    ('Math Basics', 1, 1, 1), \\\n",
    "    ('Grammar Rules', 2, 2, 2), \\\n",
    "    ('Introduction to Biology', 3, 3, 3);\n"
   ]
  },
  {
   "cell_type": "code",
   "execution_count": 6,
   "id": "c960bd61",
   "metadata": {},
   "outputs": [
    {
     "name": "stdout",
     "output_type": "stream",
     "text": [
      " * sqlite:///Education.db\n",
      "Done.\n"
     ]
    },
    {
     "data": {
      "text/html": [
       "<table>\n",
       "    <thead>\n",
       "        <tr>\n",
       "            <th>subject_id</th>\n",
       "            <th>subject_name</th>\n",
       "        </tr>\n",
       "    </thead>\n",
       "    <tbody>\n",
       "        <tr>\n",
       "            <td>1</td>\n",
       "            <td>Math</td>\n",
       "        </tr>\n",
       "        <tr>\n",
       "            <td>2</td>\n",
       "            <td>English</td>\n",
       "        </tr>\n",
       "        <tr>\n",
       "            <td>3</td>\n",
       "            <td>Science</td>\n",
       "        </tr>\n",
       "    </tbody>\n",
       "</table>"
      ],
      "text/plain": [
       "[(1, 'Math'), (2, 'English'), (3, 'Science')]"
      ]
     },
     "execution_count": 6,
     "metadata": {},
     "output_type": "execute_result"
    }
   ],
   "source": [
    "%sql SELECT * FROM Subjects;"
   ]
  },
  {
   "cell_type": "code",
   "execution_count": 7,
   "id": "a36a4afe",
   "metadata": {},
   "outputs": [
    {
     "name": "stdout",
     "output_type": "stream",
     "text": [
      " * sqlite:///Education.db\n",
      "Done.\n"
     ]
    },
    {
     "data": {
      "text/html": [
       "<table>\n",
       "    <thead>\n",
       "        <tr>\n",
       "            <th>question_id</th>\n",
       "            <th>question_text</th>\n",
       "            <th>subject_id</th>\n",
       "            <th>difficulty_id</th>\n",
       "            <th>topic_id</th>\n",
       "        </tr>\n",
       "    </thead>\n",
       "    <tbody>\n",
       "        <tr>\n",
       "            <td>1</td>\n",
       "            <td>What is 2 + 2?</td>\n",
       "            <td>1</td>\n",
       "            <td>1</td>\n",
       "            <td>1</td>\n",
       "        </tr>\n",
       "        <tr>\n",
       "            <td>2</td>\n",
       "            <td>Identify the subject in The cat is on the mat. </td>\n",
       "            <td>2</td>\n",
       "            <td>1</td>\n",
       "            <td>2</td>\n",
       "        </tr>\n",
       "    </tbody>\n",
       "</table>"
      ],
      "text/plain": [
       "[(1, 'What is 2 + 2?', 1, 1, 1),\n",
       " (2, 'Identify the subject in The cat is on the mat. ', 2, 1, 2)]"
      ]
     },
     "execution_count": 7,
     "metadata": {},
     "output_type": "execute_result"
    }
   ],
   "source": [
    "%%sql\n",
    "SELECT *\n",
    "FROM Questions\n",
    "WHERE difficulty_id = 1;\n"
   ]
  },
  {
   "cell_type": "code",
   "execution_count": 8,
   "id": "b62bc621",
   "metadata": {},
   "outputs": [
    {
     "name": "stdout",
     "output_type": "stream",
     "text": [
      "Diagnostic Test Questions:\n",
      "1. What is 2 + 2?\n"
     ]
    }
   ],
   "source": [
    "import sqlite3\n",
    "import random\n",
    "\n",
    "# Connect to the SQLite database\n",
    "conn = sqlite3.connect('Education.db')  # Replace with your actual database name\n",
    "cursor = conn.cursor()\n",
    "\n",
    "# Define the parameters for the diagnostic test\n",
    "subject_id = 1  # Replace with the actual subject ID\n",
    "difficulty_id = 1  # Replace with the actual difficulty ID\n",
    "topic_id = 1  # Replace with the actual topic ID\n",
    "num_questions = 5  # Replace with the desired number of questions in the diagnostic test\n",
    "\n",
    "# Select questions based on difficulty, topic, and subject\n",
    "query = \"\"\"\n",
    "    SELECT question_id, question_text\n",
    "    FROM Questions\n",
    "    WHERE subject_id = ? AND difficulty_id = ? AND topic_id = ?\n",
    "    ORDER BY RANDOM()\n",
    "    LIMIT ?\n",
    "\"\"\"\n",
    "\n",
    "cursor.execute(query, (subject_id, difficulty_id, topic_id, num_questions))\n",
    "diagnostic_test_questions = cursor.fetchall()\n",
    "\n",
    "# Display the selected questions\n",
    "print(\"Diagnostic Test Questions:\")\n",
    "for question_id, question_text in diagnostic_test_questions:\n",
    "    print(f\"{question_id}. {question_text}\")\n",
    "\n",
    "# Close the database connection\n",
    "conn.close()"
   ]
  },
  {
   "cell_type": "code",
   "execution_count": 10,
   "id": "d506fb3b",
   "metadata": {},
   "outputs": [
    {
     "data": {
      "text/html": [
       "<div>\n",
       "<style scoped>\n",
       "    .dataframe tbody tr th:only-of-type {\n",
       "        vertical-align: middle;\n",
       "    }\n",
       "\n",
       "    .dataframe tbody tr th {\n",
       "        vertical-align: top;\n",
       "    }\n",
       "\n",
       "    .dataframe thead th {\n",
       "        text-align: right;\n",
       "    }\n",
       "</style>\n",
       "<table border=\"1\" class=\"dataframe\">\n",
       "  <thead>\n",
       "    <tr style=\"text-align: right;\">\n",
       "      <th></th>\n",
       "      <th>student_id</th>\n",
       "      <th>performance</th>\n",
       "      <th>diagnostic_result</th>\n",
       "      <th>learning_plan</th>\n",
       "    </tr>\n",
       "  </thead>\n",
       "  <tbody>\n",
       "    <tr>\n",
       "      <th>0</th>\n",
       "      <td>1</td>\n",
       "      <td>80.5</td>\n",
       "      <td>High</td>\n",
       "      <td>Advanced</td>\n",
       "    </tr>\n",
       "    <tr>\n",
       "      <th>1</th>\n",
       "      <td>2</td>\n",
       "      <td>92.3</td>\n",
       "      <td>Medium</td>\n",
       "      <td>Intermediate</td>\n",
       "    </tr>\n",
       "    <tr>\n",
       "      <th>2</th>\n",
       "      <td>3</td>\n",
       "      <td>75.0</td>\n",
       "      <td>Low</td>\n",
       "      <td>Basic</td>\n",
       "    </tr>\n",
       "  </tbody>\n",
       "</table>\n",
       "</div>"
      ],
      "text/plain": [
       "   student_id  performance diagnostic_result learning_plan\n",
       "0           1         80.5              High      Advanced\n",
       "1           2         92.3            Medium  Intermediate\n",
       "2           3         75.0               Low         Basic"
      ]
     },
     "execution_count": 10,
     "metadata": {},
     "output_type": "execute_result"
    }
   ],
   "source": [
    "# Connect to the SQLite database\n",
    "conn = sqlite3.connect('Education.db')  # Replace with your actual database name\n",
    "cursor = conn.cursor()\n",
    "\n",
    "# Create Students table\n",
    "cursor.execute('''\n",
    "    CREATE TABLE Students (\n",
    "        student_id INTEGER PRIMARY KEY,\n",
    "        performance REAL NOT NULL\n",
    "    );\n",
    "''')\n",
    "\n",
    "# Insert sample data into Students table\n",
    "cursor.executemany('''\n",
    "    INSERT INTO Students (student_id, performance) VALUES (?, ?);\n",
    "''', [(1, 80.5), (2, 92.3), (3, 75.0)])\n",
    "\n",
    "# Create DiagnosticTests table\n",
    "cursor.execute('''\n",
    "    CREATE TABLE DiagnosticTests (\n",
    "        test_id INTEGER PRIMARY KEY,\n",
    "        student_id INTEGER,\n",
    "        diagnostic_result TEXT NOT NULL,\n",
    "        learning_plan TEXT,\n",
    "        FOREIGN KEY (student_id) REFERENCES Students(student_id)\n",
    "    );\n",
    "''')\n",
    "\n",
    "# Insert sample data into DiagnosticTests table\n",
    "cursor.executemany('''\n",
    "    INSERT INTO DiagnosticTests (student_id, diagnostic_result, learning_plan) VALUES (?, ?, ?);\n",
    "''', [(1, 'High', 'Advanced'), (2, 'Medium', 'Intermediate'), (3, 'Low', 'Basic')])\n",
    "\n",
    "# Commit the changes\n",
    "conn.commit()\n",
    "\n",
    "# Close the database connection\n",
    "conn.close()\n",
    "\n",
    "# Connect to the SQLite database again to fetch data into a Pandas DataFrame\n",
    "conn = sqlite3.connect('Education.db')  # Replace with your actual database name\n",
    "cursor = conn.cursor()\n",
    "\n",
    "# Retrieve student performance data and diagnostic test results\n",
    "query = '''\n",
    "    SELECT Students.student_id, Students.performance, DiagnosticTests.diagnostic_result, DiagnosticTests.learning_plan\n",
    "    FROM Students\n",
    "    JOIN DiagnosticTests ON Students.student_id = DiagnosticTests.student_id;\n",
    "'''\n",
    "\n",
    "# Execute the query and fetch data into a Pandas DataFrame\n",
    "df = pd.read_sql_query(query, conn)\n",
    "\n",
    "# Close the database connection\n",
    "conn.close()\n",
    "\n",
    "# Display the DataFrame\n",
    "df"
   ]
  },
  {
   "cell_type": "code",
   "execution_count": 19,
   "id": "4b301298",
   "metadata": {},
   "outputs": [
    {
     "name": "stdout",
     "output_type": "stream",
     "text": [
      "Model Accuracy: 0.0\n"
     ]
    },
    {
     "data": {
      "text/plain": [
       "['learning_plan_model.joblib']"
      ]
     },
     "execution_count": 19,
     "metadata": {},
     "output_type": "execute_result"
    }
   ],
   "source": [
    "# Connect to the SQLite database\n",
    "conn = sqlite3.connect('Education.db')  # Replace with your actual database name\n",
    "cursor = conn.cursor()\n",
    "\n",
    "# Retrieve student performance data and diagnostic test results\n",
    "query = \"\"\"\n",
    "    SELECT Students.student_id, Students.performance, DiagnosticTests.diagnostic_result AS diagnostic_result, DiagnosticTests.learning_plan\n",
    "    FROM Students\n",
    "    JOIN DiagnosticTests ON Students.student_id = DiagnosticTests.student_id;\n",
    "\"\"\"\n",
    "\n",
    "# Execute the query and fetch data into a Pandas DataFrame\n",
    "df = pd.read_sql_query(query, conn)\n",
    "\n",
    "# Close the database connection\n",
    "conn.close()\n",
    "\n",
    "# Display the first few rows of the DataFrame\n",
    "df.head()\n",
    "\n",
    "# Prepare features (X) and target variable (y)\n",
    "X = df[['performance', 'diagnostic_result']]\n",
    "y = df['learning_plan']\n",
    "\n",
    "# Encode categorical variables if needed (e.g., diagnostic_result)\n",
    "label_encoder = LabelEncoder()\n",
    "X = X.copy()\n",
    "X['diagnostic_result'] = label_encoder.fit_transform(X['diagnostic_result'])\n",
    "\n",
    "\n",
    "# Split the dataset into training and testing sets\n",
    "X_train, X_test, y_train, y_test = train_test_split(X, y, test_size=0.2, random_state=42)\n",
    "\n",
    "# Create a decision tree classifier\n",
    "model = DecisionTreeClassifier()\n",
    "\n",
    "# Train the model\n",
    "model.fit(X_train, y_train)\n",
    "\n",
    "# Make predictions on the test set\n",
    "y_pred = model.predict(X_test)\n",
    "\n",
    "# Evaluate the model\n",
    "accuracy = metrics.accuracy_score(y_test, y_pred)\n",
    "print(f'Model Accuracy: {accuracy}')\n",
    "\n",
    "# Save the trained model for future use\n",
    "joblib.dump(model, 'learning_plan_model.joblib')"
   ]
  },
  {
   "cell_type": "code",
   "execution_count": null,
   "id": "2799f9b0",
   "metadata": {},
   "outputs": [],
   "source": [
    "# Connect to the SQLite database\n",
    "conn = sqlite3.connect('Education.db')  # Replace with your actual database name\n",
    "cursor = conn.cursor()\n",
    "\n",
    "# Define score ranges and corresponding learning plans\n",
    "score_ranges = {\n",
    "    (70, 100): 'Advanced',\n",
    "    (50, 69): 'Intermediate',\n",
    "    (0, 49): 'Basic'\n",
    "}\n",
    "\n",
    "# Retrieve student performance data\n",
    "query = '''\n",
    "    SELECT student_id, performance\n",
    "    FROM Students;\n",
    "'''\n",
    "cursor.execute(query)\n",
    "performance_data = cursor.fetchall()\n",
    "\n",
    "# Determine learning plan based on score ranges\n",
    "learning_plans = []\n",
    "for student_id, score in performance_data:\n",
    "    for score_range, plan in score_ranges.items():\n",
    "        if score_range[0] <= score <= score_range[1]:\n",
    "            learning_plans.append((student_id, plan))\n",
    "\n",
    "# Create a LearningPlans table\n",
    "cursor.execute('''\n",
    "    CREATE TABLE LearningPlans (\n",
    "        student_id INTEGER PRIMARY KEY,\n",
    "        plan TEXT NOT NULL\n",
    "    );\n",
    "''')\n",
    "\n",
    "# Insert learning plans into the LearningPlans table\n",
    "cursor.executemany('''\n",
    "    INSERT INTO LearningPlans (student_id, plan) VALUES (?, ?);\n",
    "''', learning_plans)\n",
    "\n",
    "# Commit the changes\n",
    "conn.commit()\n",
    "\n",
    "# Close the database connection\n",
    "conn.close()\n"
   ]
  },
  {
   "cell_type": "code",
   "execution_count": 22,
   "id": "022d8b2e",
   "metadata": {},
   "outputs": [
    {
     "name": "stdout",
     "output_type": "stream",
     "text": [
      "   student_id      plan\n",
      "0           1  Advanced\n",
      "1           2  Advanced\n",
      "2           3  Advanced\n"
     ]
    }
   ],
   "source": [
    "# Connect to the SQLite database\n",
    "conn = sqlite3.connect('Education.db')  # Replace with your actual database name\n",
    "\n",
    "# Read the LearningPlans table into a Pandas DataFrame\n",
    "query = '''\n",
    "    SELECT *\n",
    "    FROM LearningPlans;\n",
    "'''\n",
    "df_learning_plans = pd.read_sql_query(query, conn)\n",
    "\n",
    "# Close the database connection\n",
    "conn.close()\n",
    "\n",
    "# Display the DataFrame\n",
    "print(df_learning_plans)"
   ]
  },
  {
   "cell_type": "code",
   "execution_count": null,
   "id": "d12b6c8e",
   "metadata": {},
   "outputs": [],
   "source": []
  }
 ],
 "metadata": {
  "kernelspec": {
   "display_name": "Python 3 (ipykernel)",
   "language": "python",
   "name": "python3"
  },
  "language_info": {
   "codemirror_mode": {
    "name": "ipython",
    "version": 3
   },
   "file_extension": ".py",
   "mimetype": "text/x-python",
   "name": "python",
   "nbconvert_exporter": "python",
   "pygments_lexer": "ipython3",
   "version": "3.9.7"
  }
 },
 "nbformat": 4,
 "nbformat_minor": 5
}
